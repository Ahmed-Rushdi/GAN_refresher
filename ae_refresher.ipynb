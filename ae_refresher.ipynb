{
 "cells": [
  {
   "cell_type": "code",
   "execution_count": 8,
   "metadata": {},
   "outputs": [],
   "source": [
    "import tensorflow as tf\n",
    "import numpy as np\n",
    "import matplotlib.pyplot as plt\n",
    "import cv2 as cv\n",
    "\n",
    "\n",
    "class AutoEncoder(tf.keras.Model):\n",
    "    def __init__(self, input_shape=(28, 28, 1)):\n",
    "        super(AutoEncoder, self).__init__()\n",
    "        self.encoder = tf.keras.Sequential(\n",
    "            [\n",
    "                tf.keras.layers.InputLayer(input_shape=input_shape),\n",
    "                tf.keras.layers.Conv2D(\n",
    "                    16, (3, 3), activation=\"relu\", padding=\"same\", strides=2\n",
    "                ),\n",
    "                tf.keras.layers.Conv2D(\n",
    "                    8, (3, 3), activation=\"relu\", padding=\"same\", strides=2\n",
    "                ),\n",
    "            ]\n",
    "        )\n",
    "        self.decoder = tf.keras.Sequential(\n",
    "            [\n",
    "                tf.keras.layers.Conv2DTranspose(\n",
    "                    8, kernel_size=3, strides=2, activation=\"relu\", padding=\"same\"\n",
    "                ),\n",
    "                tf.keras.layers.Conv2DTranspose(\n",
    "                    16, kernel_size=3, strides=2, activation=\"relu\", padding=\"same\"\n",
    "                ),\n",
    "                tf.keras.layers.Conv2D(\n",
    "                    1, kernel_size=(3, 3), activation=\"sigmoid\", padding=\"same\"\n",
    "                ),\n",
    "            ]\n",
    "        )\n",
    "\n",
    "    def decode(self, x):\n",
    "        return self.decoder(x)\n",
    "\n",
    "    def encode(self, x):\n",
    "        return self.encoder(x)\n",
    "\n",
    "    def call(self, x):\n",
    "        encoded = self.encoder(x)\n",
    "        decoded = self.decoder(encoded)\n",
    "        return decoded"
   ]
  },
  {
   "cell_type": "code",
   "execution_count": 9,
   "metadata": {},
   "outputs": [],
   "source": [
    "def plot_reconstructed_images_and_encodings(original, encodings, reconstructed):\n",
    "    n = original.shape[0]\n",
    "    plt.figure(figsize=(20, 4))\n",
    "    for i in range(n):\n",
    "        ax = plt.subplot(3, n, i + 1)\n",
    "        plt.imshow(original[i])\n",
    "        ax.get_xaxis().set_visible(False)\n",
    "        ax.get_yaxis().set_visible(False)\n",
    "        if i == 0:\n",
    "            ax.set_title(\"Original Images\", loc=\"left\", fontsize=20)\n",
    "        ax = plt.subplot(3, n, i + 1 + n)\n",
    "        plt.imshow(encodings[i])\n",
    "        ax.get_xaxis().set_visible(False)\n",
    "        ax.get_yaxis().set_visible(False)\n",
    "        if i == 0:\n",
    "            ax.set_title(\"Encodings\", loc=\"left\", fontsize=20)\n",
    "        ax = plt.subplot(3, n, i + 1 + 2 * n)\n",
    "        plt.imshow(reconstructed[i])\n",
    "        ax.get_xaxis().set_visible(False)\n",
    "        ax.get_yaxis().set_visible(False)\n",
    "        if i == 0:\n",
    "            ax.set_title(\"Reconstructed Images\", loc=\"left\", fontsize=20)\n",
    "    plt.show()"
   ]
  },
  {
   "cell_type": "code",
   "execution_count": 10,
   "metadata": {},
   "outputs": [],
   "source": [
    "mnist = tf.keras.datasets.mnist  # 28x28 images of hand-written digits 0-9\n",
    "fashion_mnist = tf.keras.datasets.fashion_mnist  # 28x28 images of clothing items\n",
    "\n",
    "(x_train, y_train), (x_test, y_test) = mnist.load_data()\n",
    "x_train = x_train / 255.0  # normalize pixel values to be between 0 and 1\n",
    "x_test = x_test / 255.0"
   ]
  },
  {
   "cell_type": "code",
   "execution_count": 11,
   "metadata": {},
   "outputs": [
    {
     "name": "stdout",
     "output_type": "stream",
     "text": [
      "Epoch 1/10\n",
      "1875/1875 [==============================] - 15s 7ms/step - loss: 7216.8213 - val_loss: 7342.7988\n",
      "Epoch 2/10\n",
      "1875/1875 [==============================] - 14s 7ms/step - loss: 7216.5776 - val_loss: 7342.7837\n",
      "Epoch 3/10\n",
      "1875/1875 [==============================] - 14s 8ms/step - loss: 7216.5669 - val_loss: 7342.7769\n",
      "Epoch 4/10\n",
      "1875/1875 [==============================] - 13s 7ms/step - loss: 7216.5557 - val_loss: 7342.7725\n",
      "Epoch 5/10\n",
      "1875/1875 [==============================] - 14s 8ms/step - loss: 7216.5562 - val_loss: 7342.7661\n",
      "Epoch 6/10\n",
      "1875/1875 [==============================] - 12s 7ms/step - loss: 7216.5532 - val_loss: 7342.7632\n",
      "Epoch 7/10\n",
      "1875/1875 [==============================] - 15s 8ms/step - loss: 7216.5469 - val_loss: 7342.7632\n",
      "Epoch 8/10\n",
      "1875/1875 [==============================] - 14s 7ms/step - loss: 7216.5483 - val_loss: 7342.7598\n",
      "Epoch 9/10\n",
      "1186/1875 [=================>............] - ETA: 4s - loss: 7238.6216"
     ]
    }
   ],
   "source": [
    "model1 = AutoEncoder()\n",
    "model1.compile(optimizer=\"adam\", loss=\"mse\")\n",
    "model1.fit(x_train, x_train, epochs=10, shuffle=True, validation_data=(x_test, x_test))"
   ]
  },
  {
   "cell_type": "code",
   "execution_count": null,
   "metadata": {},
   "outputs": [
    {
     "data": {
      "text/plain": [
       "<tf.Tensor: shape=(10, 14, 28), dtype=float32, numpy=\n",
       "array([[[  6.089097 ,   3.810285 ,  18.835325 , ...,   3.810285 ,\n",
       "          18.835325 ,  17.93816  ],\n",
       "        [ 10.397479 ,   5.6709595,   5.129558 , ...,   3.0193617,\n",
       "           6.0712147,   5.91554  ],\n",
       "        [  3.905484 ,  11.26548  ,  23.576508 , ...,   3.7111597,\n",
       "          35.48426  ,   0.       ],\n",
       "        ...,\n",
       "        [ 37.116566 ,  44.76358  ,   0.       , ...,   3.0193617,\n",
       "           6.0712147,   5.91554  ],\n",
       "        [  5.877215 ,   0.3836285,  11.41289  , ...,   0.5832876,\n",
       "          19.517893 ,  19.354723 ],\n",
       "        [ 21.70333  ,   9.23238  ,   4.658797 , ...,   1.9934461,\n",
       "           8.864996 ,   4.084282 ]],\n",
       "\n",
       "       [[  6.089097 ,   3.810285 ,  18.835325 , ...,  20.421967 ,\n",
       "          48.64256  ,   0.       ],\n",
       "        [ 40.19647  ,  20.822723 ,   0.       , ...,   3.0193617,\n",
       "           6.0712147,   5.91554  ],\n",
       "        [  6.089097 ,   3.810285 ,  18.835325 , ...,  78.9017   ,\n",
       "          38.865948 ,  13.36388  ],\n",
       "        ...,\n",
       "        [ 74.643135 , 144.54984  ,   0.       , ...,  17.622812 ,\n",
       "           4.087933 ,  22.765892 ],\n",
       "        [  5.877215 ,   0.3836285,  11.41289  , ...,   0.3836285,\n",
       "          11.41289  ,  13.693491 ],\n",
       "        [  9.356438 ,   1.9800577,   7.5161986, ...,   1.9934461,\n",
       "           8.864996 ,   4.084282 ]],\n",
       "\n",
       "       [[  6.089097 ,   3.810285 ,  18.835325 , ...,   4.9624014,\n",
       "          28.150387 ,  23.403555 ],\n",
       "        [ 19.561922 ,   7.8276606,   0.       , ...,   3.0193617,\n",
       "           6.0712147,   5.91554  ],\n",
       "        [  6.089097 ,   3.810285 ,  18.835325 , ...,  84.9883   ,\n",
       "           0.       ,  28.736765 ],\n",
       "        ...,\n",
       "        [ 23.989872 ,   9.108554 ,   5.7484627, ...,   3.0193617,\n",
       "           6.0712147,   5.91554  ],\n",
       "        [  5.877215 ,   0.3836285,  11.41289  , ...,   0.3836285,\n",
       "          11.41289  ,  13.693491 ],\n",
       "        [  9.356438 ,   1.9800577,   7.5161986, ...,   1.9934461,\n",
       "           8.864996 ,   4.084282 ]],\n",
       "\n",
       "       ...,\n",
       "\n",
       "       [[  6.089097 ,   3.810285 ,  18.835325 , ...,   4.6628485,\n",
       "          14.484988 ,  25.106094 ],\n",
       "        [  6.3177056,   5.953557 ,   9.114342 , ...,   3.0193617,\n",
       "           6.0712147,   5.91554  ],\n",
       "        [  6.089097 ,   3.810285 ,  18.835325 , ...,   5.6826296,\n",
       "          42.18717  ,   0.       ],\n",
       "        ...,\n",
       "        [ 10.211506 ,   5.5827475,   6.595865 , ...,   3.0193617,\n",
       "           6.0712147,   5.91554  ],\n",
       "        [  5.877215 ,   0.3836285,  11.41289  , ...,   0.3836285,\n",
       "          11.41289  ,  13.693491 ],\n",
       "        [  9.356438 ,   1.9800577,   7.5161986, ...,   1.9934461,\n",
       "           8.864996 ,   4.084282 ]],\n",
       "\n",
       "       [[  6.089097 ,   3.810285 ,  18.835325 , ...,   4.8399124,\n",
       "          16.687952 ,  24.391554 ],\n",
       "        [  5.248079 ,  12.287238 ,  10.292636 , ...,   2.8039553,\n",
       "           9.329627 ,   5.5582194],\n",
       "        [  5.9698935,   3.5350242,  18.730688 , ..., 121.29339  ,\n",
       "          47.79391  ,   0.       ],\n",
       "        ...,\n",
       "        [ 57.503597 , 155.53516  ,   0.       , ...,   3.0193617,\n",
       "           6.0712147,   5.91554  ],\n",
       "        [  5.877215 ,   0.3836285,  11.41289  , ...,   0.3836285,\n",
       "          11.41289  ,  13.693491 ],\n",
       "        [  9.356438 ,   1.9800577,   7.5161986, ...,   1.9934461,\n",
       "           8.864996 ,   4.084282 ]],\n",
       "\n",
       "       [[  6.089097 ,   3.810285 ,  18.835325 , ...,   3.810285 ,\n",
       "          18.835325 ,  17.93816  ],\n",
       "        [ 10.397479 ,   5.6709595,   5.129558 , ...,   3.0193617,\n",
       "           6.0712147,   5.91554  ],\n",
       "        [  6.089097 ,   3.810285 ,  18.835325 , ...,  51.32156  ,\n",
       "          67.780235 ,   0.       ],\n",
       "        ...,\n",
       "        [ 16.47435  ,  23.636292 ,   2.3658764, ...,   3.0193617,\n",
       "           6.0712147,   5.91554  ],\n",
       "        [  5.877215 ,   0.3836285,  11.41289  , ...,   1.3504112,\n",
       "          13.246749 ,  14.995611 ],\n",
       "        [ 12.213781 ,   3.1408026,   8.097732 , ...,   1.9934461,\n",
       "           8.864996 ,   4.084282 ]]], dtype=float32)>"
      ]
     },
     "execution_count": 5,
     "metadata": {},
     "output_type": "execute_result"
    }
   ],
   "source": [
    "tf.reshape(model1.encode(x_test[:10]), (10, 14, -1))"
   ]
  },
  {
   "cell_type": "code",
   "execution_count": null,
   "metadata": {},
   "outputs": [],
   "source": [
    "model1.summary()"
   ]
  },
  {
   "cell_type": "code",
   "execution_count": null,
   "metadata": {},
   "outputs": [
    {
     "name": "stdout",
     "output_type": "stream",
     "text": [
      "1/1 [==============================] - 0s 151ms/step\n"
     ]
    },
    {
     "ename": "ValueError",
     "evalue": "num must be an integer with 1 <= num <= 20, not 21",
     "output_type": "error",
     "traceback": [
      "\u001b[1;31m---------------------------------------------------------------------------\u001b[0m",
      "\u001b[1;31mValueError\u001b[0m                                Traceback (most recent call last)",
      "Cell \u001b[1;32mIn[7], line 1\u001b[0m\n\u001b[1;32m----> 1\u001b[0m \u001b[43mplot_reconstructed_images_and_encodings\u001b[49m\u001b[43m(\u001b[49m\n\u001b[0;32m      2\u001b[0m \u001b[43m    \u001b[49m\u001b[43mx_test\u001b[49m\u001b[43m[\u001b[49m\u001b[43m:\u001b[49m\u001b[38;5;241;43m10\u001b[39;49m\u001b[43m]\u001b[49m\u001b[43m,\u001b[49m\n\u001b[0;32m      3\u001b[0m \u001b[43m    \u001b[49m\u001b[43mtf\u001b[49m\u001b[38;5;241;43m.\u001b[39;49m\u001b[43mreshape\u001b[49m\u001b[43m(\u001b[49m\u001b[43mmodel1\u001b[49m\u001b[38;5;241;43m.\u001b[39;49m\u001b[43mencode\u001b[49m\u001b[43m(\u001b[49m\u001b[43mx_test\u001b[49m\u001b[43m[\u001b[49m\u001b[43m:\u001b[49m\u001b[38;5;241;43m10\u001b[39;49m\u001b[43m]\u001b[49m\u001b[43m)\u001b[49m\u001b[43m,\u001b[49m\u001b[43m(\u001b[49m\u001b[38;5;241;43m10\u001b[39;49m\u001b[43m,\u001b[49m\u001b[38;5;241;43m14\u001b[39;49m\u001b[43m,\u001b[49m\u001b[38;5;241;43m-\u001b[39;49m\u001b[38;5;241;43m1\u001b[39;49m\u001b[43m)\u001b[49m\u001b[43m)\u001b[49m\u001b[43m,\u001b[49m\n\u001b[0;32m      4\u001b[0m \u001b[43m    \u001b[49m\u001b[43mmodel1\u001b[49m\u001b[38;5;241;43m.\u001b[39;49m\u001b[43mpredict\u001b[49m\u001b[43m(\u001b[49m\u001b[43mx_test\u001b[49m\u001b[43m[\u001b[49m\u001b[43m:\u001b[49m\u001b[38;5;241;43m10\u001b[39;49m\u001b[43m]\u001b[49m\u001b[43m)\u001b[49m\n\u001b[0;32m      5\u001b[0m \u001b[43m)\u001b[49m\n",
      "Cell \u001b[1;32mIn[2], line 17\u001b[0m, in \u001b[0;36mplot_reconstructed_images_and_encodings\u001b[1;34m(original, encodings, reconstructed)\u001b[0m\n\u001b[0;32m     15\u001b[0m \u001b[38;5;28;01mif\u001b[39;00m i \u001b[38;5;241m==\u001b[39m \u001b[38;5;241m0\u001b[39m:\n\u001b[0;32m     16\u001b[0m     ax\u001b[38;5;241m.\u001b[39mset_title(\u001b[38;5;124m\"\u001b[39m\u001b[38;5;124mEncodings\u001b[39m\u001b[38;5;124m\"\u001b[39m, loc\u001b[38;5;241m=\u001b[39m\u001b[38;5;124m\"\u001b[39m\u001b[38;5;124mleft\u001b[39m\u001b[38;5;124m\"\u001b[39m, fontsize\u001b[38;5;241m=\u001b[39m\u001b[38;5;241m20\u001b[39m)\n\u001b[1;32m---> 17\u001b[0m ax \u001b[38;5;241m=\u001b[39m \u001b[43mplt\u001b[49m\u001b[38;5;241;43m.\u001b[39;49m\u001b[43msubplot\u001b[49m\u001b[43m(\u001b[49m\u001b[38;5;241;43m2\u001b[39;49m\u001b[43m,\u001b[49m\u001b[43m \u001b[49m\u001b[43mn\u001b[49m\u001b[43m,\u001b[49m\u001b[43m \u001b[49m\u001b[43mi\u001b[49m\u001b[43m \u001b[49m\u001b[38;5;241;43m+\u001b[39;49m\u001b[43m \u001b[49m\u001b[38;5;241;43m1\u001b[39;49m\u001b[43m \u001b[49m\u001b[38;5;241;43m+\u001b[39;49m\u001b[43m \u001b[49m\u001b[38;5;241;43m2\u001b[39;49m\u001b[43m \u001b[49m\u001b[38;5;241;43m*\u001b[39;49m\u001b[43m \u001b[49m\u001b[43mn\u001b[49m\u001b[43m)\u001b[49m\n\u001b[0;32m     18\u001b[0m plt\u001b[38;5;241m.\u001b[39mimshow(reconstructed[i])\n\u001b[0;32m     19\u001b[0m ax\u001b[38;5;241m.\u001b[39mget_xaxis()\u001b[38;5;241m.\u001b[39mset_visible(\u001b[38;5;28;01mFalse\u001b[39;00m)\n",
      "File \u001b[1;32mc:\\Users\\ahmed\\.conda\\envs\\dml\\lib\\site-packages\\matplotlib\\pyplot.py:1425\u001b[0m, in \u001b[0;36msubplot\u001b[1;34m(*args, **kwargs)\u001b[0m\n\u001b[0;32m   1422\u001b[0m fig \u001b[38;5;241m=\u001b[39m gcf()\n\u001b[0;32m   1424\u001b[0m \u001b[38;5;66;03m# First, search for an existing subplot with a matching spec.\u001b[39;00m\n\u001b[1;32m-> 1425\u001b[0m key \u001b[38;5;241m=\u001b[39m \u001b[43mSubplotSpec\u001b[49m\u001b[38;5;241;43m.\u001b[39;49m\u001b[43m_from_subplot_args\u001b[49m\u001b[43m(\u001b[49m\u001b[43mfig\u001b[49m\u001b[43m,\u001b[49m\u001b[43m \u001b[49m\u001b[43margs\u001b[49m\u001b[43m)\u001b[49m\n\u001b[0;32m   1427\u001b[0m \u001b[38;5;28;01mfor\u001b[39;00m ax \u001b[38;5;129;01min\u001b[39;00m fig\u001b[38;5;241m.\u001b[39maxes:\n\u001b[0;32m   1428\u001b[0m     \u001b[38;5;66;03m# If we found an Axes at the position, we can re-use it if the user passed no\u001b[39;00m\n\u001b[0;32m   1429\u001b[0m     \u001b[38;5;66;03m# kwargs or if the axes class and kwargs are identical.\u001b[39;00m\n\u001b[0;32m   1430\u001b[0m     \u001b[38;5;28;01mif\u001b[39;00m (ax\u001b[38;5;241m.\u001b[39mget_subplotspec() \u001b[38;5;241m==\u001b[39m key\n\u001b[0;32m   1431\u001b[0m         \u001b[38;5;129;01mand\u001b[39;00m (kwargs \u001b[38;5;241m==\u001b[39m {}\n\u001b[0;32m   1432\u001b[0m              \u001b[38;5;129;01mor\u001b[39;00m (ax\u001b[38;5;241m.\u001b[39m_projection_init\n\u001b[0;32m   1433\u001b[0m                  \u001b[38;5;241m==\u001b[39m fig\u001b[38;5;241m.\u001b[39m_process_projection_requirements(\u001b[38;5;241m*\u001b[39m\u001b[38;5;241m*\u001b[39mkwargs)))):\n",
      "File \u001b[1;32mc:\\Users\\ahmed\\.conda\\envs\\dml\\lib\\site-packages\\matplotlib\\gridspec.py:599\u001b[0m, in \u001b[0;36mSubplotSpec._from_subplot_args\u001b[1;34m(figure, args)\u001b[0m\n\u001b[0;32m    597\u001b[0m \u001b[38;5;28;01melse\u001b[39;00m:\n\u001b[0;32m    598\u001b[0m     \u001b[38;5;28;01mif\u001b[39;00m \u001b[38;5;129;01mnot\u001b[39;00m \u001b[38;5;28misinstance\u001b[39m(num, Integral) \u001b[38;5;129;01mor\u001b[39;00m num \u001b[38;5;241m<\u001b[39m \u001b[38;5;241m1\u001b[39m \u001b[38;5;129;01mor\u001b[39;00m num \u001b[38;5;241m>\u001b[39m rows\u001b[38;5;241m*\u001b[39mcols:\n\u001b[1;32m--> 599\u001b[0m         \u001b[38;5;28;01mraise\u001b[39;00m \u001b[38;5;167;01mValueError\u001b[39;00m(\n\u001b[0;32m    600\u001b[0m             \u001b[38;5;124mf\u001b[39m\u001b[38;5;124m\"\u001b[39m\u001b[38;5;124mnum must be an integer with 1 <= num <= \u001b[39m\u001b[38;5;132;01m{\u001b[39;00mrows\u001b[38;5;241m*\u001b[39mcols\u001b[38;5;132;01m}\u001b[39;00m\u001b[38;5;124m, \u001b[39m\u001b[38;5;124m\"\u001b[39m\n\u001b[0;32m    601\u001b[0m             \u001b[38;5;124mf\u001b[39m\u001b[38;5;124m\"\u001b[39m\u001b[38;5;124mnot \u001b[39m\u001b[38;5;132;01m{\u001b[39;00mnum\u001b[38;5;132;01m!r}\u001b[39;00m\u001b[38;5;124m\"\u001b[39m\n\u001b[0;32m    602\u001b[0m         )\n\u001b[0;32m    603\u001b[0m     i \u001b[38;5;241m=\u001b[39m j \u001b[38;5;241m=\u001b[39m num\n\u001b[0;32m    604\u001b[0m \u001b[38;5;28;01mreturn\u001b[39;00m gs[i\u001b[38;5;241m-\u001b[39m\u001b[38;5;241m1\u001b[39m:j]\n",
      "\u001b[1;31mValueError\u001b[0m: num must be an integer with 1 <= num <= 20, not 21"
     ]
    },
    {
     "data": {
      "image/png": "[encoded data removed]",
      "text/plain": [
       "<Figure size 2000x400 with 2 Axes>"
      ]
     },
     "metadata": {},
     "output_type": "display_data"
    }
   ],
   "source": [
    "plot_reconstructed_images_and_encodings(\n",
    "    x_test[:10],\n",
    "    tf.reshape(model1.encode(x_test[:10]), (10, 14, -1)),\n",
    "    model1.predict(x_test[:10]),\n",
    ")"
   ]
  },
  {
   "cell_type": "code",
   "execution_count": null,
   "metadata": {},
   "outputs": [],
   "source": [
    "(x_train, y_train), (x_test, y_test) = fashion_mnist.load_data()\n",
    "x_train = x_train / 255.0  # normalize pixel values to be between 0 and 1\n",
    "x_test = x_test / 255.0\n",
    "model2 = AutoEncoder(input_shape=(28, 28, 1))\n",
    "model2.compile(optimizer=\"adam\", loss=\"mse\")\n",
    "model2.fit(x_train, x_train, epochs=10, shuffle=True, validation_data=(x_test, x_test))"
   ]
  },
  {
   "cell_type": "code",
   "execution_count": null,
   "metadata": {},
   "outputs": [],
   "source": [
    "model2.summary()"
   ]
  },
  {
   "cell_type": "code",
   "execution_count": null,
   "metadata": {},
   "outputs": [],
   "source": [
    "plot_reconstructed_images_and_encodings(\n",
    "    x_test[:10],\n",
    "    tf.reshape(model2.encode(x_test[:10]), (10, 14, -1)),\n",
    "    model2.predict(x_test[:10]),\n",
    ")"
   ]
  }
 ],
 "metadata": {
  "kernelspec": {
   "display_name": "dml",
   "language": "python",
   "name": "python3"
  },
  "language_info": {
   "codemirror_mode": {
    "name": "ipython",
    "version": 3
   },
   "file_extension": ".py",
   "mimetype": "text/x-python",
   "name": "python",
   "nbconvert_exporter": "python",
   "pygments_lexer": "ipython3",
   "version": "3.10.13"
  }
 },
 "nbformat": 4,
 "nbformat_minor": 2
}
